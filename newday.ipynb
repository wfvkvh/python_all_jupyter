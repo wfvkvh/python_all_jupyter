{
 "cells": [
  {
   "cell_type": "code",
   "execution_count": 14,
   "metadata": {},
   "outputs": [
    {
     "name": "stdout",
     "output_type": "stream",
     "text": [
      "kiki now is sitting,he is 3e\n",
      "None\n",
      "kiki rolled over\n",
      "None\n"
     ]
    }
   ],
   "source": [
    "class Dog:\n",
    "    def __init__(self, name, age:int):\n",
    "        self.name = name\n",
    "        self.age = age\n",
    "\n",
    "    def sit(self):\n",
    "        print(f\"{self.name} now is sitting,he is {self.age}\")\n",
    "\n",
    "    def roll_over(self):\n",
    "        print(f\"{self.name} rolled over\")\n",
    "\n",
    "mydog = Dog(\"kiki\",\"3e\")\n",
    "print(mydog.sit())\n",
    "print(mydog.roll_over())\n",
    "        "
   ]
  },
  {
   "cell_type": "code",
   "execution_count": null,
   "metadata": {},
   "outputs": [],
   "source": [
    "# 使用 Literal 类型处理特定值\n",
    "from typing import Literal\n",
    "\n",
    "def example_literal(x: Literal[\"accept\", \"reject\"]) -> None:\n",
    "    pass\n"
   ]
  },
  {
   "cell_type": "code",
   "execution_count": null,
   "metadata": {},
   "outputs": [],
   "source": [
    "# 常见内置类型\n",
    "# 字符串：str | str[str] (Python>=3.9)\n",
    "def example_string(s: str) -> None:\n",
    "    pass\n",
    "\n",
    "# 整数：int\n",
    "def example_int(n: int) -> None:\n",
    "    pass\n",
    "\n",
    "# 浮点数：float\n",
    "def example_float(f: float) -> None:\n",
    "    pass\n",
    "\n",
    "# 布尔值：bool\n",
    "def example_bool(b: bool) -> None:\n",
    "    pass\n",
    "\n",
    "# None类型：None | Optional[无] (需导入Optional)\n",
    "from typing import Optional, Union\n",
    "\n",
    "def example_none(x: None) -> None:\n",
    "    pass\n"
   ]
  },
  {
   "cell_type": "code",
   "execution_count": null,
   "metadata": {},
   "outputs": [],
   "source": [
    "# 复杂类型标注\n",
    "# 函数类型：Callable[[参数类型], 返回值类型]\n",
    "def add_callback(callback: Callable[[], None]) -> None:\n",
    "    pass\n",
    "\n",
    "# 对象类型：直接写类名\n",
    "class Person:\n",
    "    def __init__(self, name: str):\n",
    "        self.name = name\n",
    "\n",
    "def example_person(p: Person) -> None:\n",
    "    pass\n"
   ]
  },
  {
   "cell_type": "code",
   "execution_count": null,
   "metadata": {},
   "outputs": [],
   "source": [
    "# 简单类型标注\n",
    "from typing import List, Tuple, Dict, Optional\n",
    "\n",
    "def calculate_sum(numbers: List[int]) -> int:\n",
    "    \"\"\"\n",
    "    计算整数列表的总和\n",
    "    \n",
    "    Args:\n",
    "        numbers: List of integers to sum\n",
    "        \n",
    "    Returns:\n",
    "        int: The total sum\n",
    "    \"\"\"\n",
    "    return sum(numbers)\n",
    "\n",
    "def process_user_info(name: str, age: Optional[int] = None) -> bool:\n",
    "    \"\"\"\n",
    "    处理用户信息\n",
    "    \n",
    "    Args:\n",
    "        name: User's full name\n",
    "        age: Optional user age\n",
    "        \n",
    "    Returns:\n",
    "        bool: True if successful, False otherwise\n",
    "    \"\"\"\n",
    "    print(f\"Processing user {name}\")\n",
    "    if age is not None:\n",
    "        print(f\"Age: {age}\")\n",
    "    return True\n",
    "\n",
    "def get_coordinates() -> Tuple[float, float]:\n",
    "    \"\"\"\n",
    "    获取坐标\n",
    "    \n",
    "    Returns:\n",
    "        tuple: (longitude, latitude) values\n",
    "    \"\"\"\n",
    "    return 104.23, 35.46\n",
    "\n",
    "def combine_dicts(dict1: Dict[str, int], dict2: Dict[str, str]) -> Dict:\n",
    "    \"\"\"\n",
    "    合并两个字典\n",
    "    \n",
    "    Args:\n",
    "        dict1: Dictionary with string keys and integer values\n",
    "        dict2: Dictionary with string keys and string values\n",
    "        \n",
    "    Returns:\n",
    "        Dict: Combined dictionary\n",
    "    \"\"\"\n",
    "    return {**dict1, **dict2}\n",
    "\n",
    "# 🟠 常见类型标注示例：\n",
    "\n",
    "## 1. 泛型支持\n",
    "\n",
    "```python\n",
    "# 列表类型：list[元素类型]\n",
    "def example_list(items: list[int]) -> None:\n",
    "    pass\n",
    "\n",
    "# 字典类型：dict[键类型, 值类型]\n",
    "def example_dict(params: dict[str, int]) -> None:\n",
    "    pass\n",
    "\n",
    "# 元组类型：tuple[元素类型*]  # 星号表示任意数量的元素\n",
    "def example_tuple(items: tuple[int, ...]) -> None:\n",
    "    pass\n",
    "\n",
    "# 可选类型：Optional[类型] 表示可为None或该类型的值\n",
    "def example_optional(x: Optional[int]) -> None:\n",
    "    pass\n",
    "\n",
    "# 数组类型：Array[元素类型] 需要导入typing\n",
    "from typing import Array\n",
    "\n",
    "def example_array(items: Array[float]) -> None:\n",
    "    pass\n"
   ]
  },
  {
   "cell_type": "code",
   "execution_count": 8,
   "metadata": {},
   "outputs": [
    {
     "name": "stdout",
     "output_type": "stream",
     "text": [
      "{'location': 'princeton', 'field': 'physics', 'first_name': 'albert', 'last_name': 'einstein'}\n"
     ]
    }
   ],
   "source": [
    "def build_profile(first, last, **user_info):\n",
    "    \"\"\"创建一个字典，其中包含我们知道的有关用户的一切\"\"\"\n",
    "    user_info['first_name'] = first\n",
    "    user_info['last_name'] = last\n",
    "    return user_info\n",
    "\n",
    "user_profile = build_profile('albert', 'einstein',\n",
    "                             location='princeton',\n",
    "                             field='physics')\n",
    "print(user_profile)"
   ]
  },
  {
   "cell_type": "code",
   "execution_count": 7,
   "metadata": {},
   "outputs": [
    {
     "name": "stdout",
     "output_type": "stream",
     "text": [
      "Jimi Hendrix\n",
      "返回标准格式的姓名\n"
     ]
    }
   ],
   "source": [
    "def get_formatted_name(first_name, last_name):\n",
    "    \"\"\"返回标准格式的姓名\"\"\"\n",
    "    full_name = f\"{first_name} {last_name}\"\n",
    "    return full_name.title()\n",
    "    \n",
    "musician = get_formatted_name('jimi', 'hendrix')\n",
    "print(musician)\n",
    "print(get_formatted_name.__doc__)"
   ]
  },
  {
   "cell_type": "code",
   "execution_count": 3,
   "metadata": {},
   "outputs": [
    {
     "name": "stdout",
     "output_type": "stream",
     "text": [
      "你好 微信\n"
     ]
    }
   ],
   "source": [
    "def greet_user(username):\n",
    "    print(\"你好\",username.title())\n",
    "\n",
    "greet_user(\"微信\")"
   ]
  },
  {
   "cell_type": "code",
   "execution_count": 1,
   "metadata": {},
   "outputs": [
    {
     "name": "stdin",
     "output_type": "stream",
     "text": [
      "输入名字 jhon\n"
     ]
    }
   ],
   "source": [
    "name = input(\"输入名字\")"
   ]
  },
  {
   "cell_type": "code",
   "execution_count": 59,
   "metadata": {},
   "outputs": [
    {
     "name": "stdout",
     "output_type": "stream",
     "text": [
      "{'color': 'yellow', 'points': 10, 'speed': 'medium'}\n",
      "{'color': 'yellow', 'points': 10, 'speed': 'medium'}\n",
      "{'color': 'yellow', 'points': 10, 'speed': 'medium'}\n",
      "{'color': 'green', 'points': 3, 'speed': 'slow'}\n",
      "{'color': 'green', 'points': 4, 'speed': 'slow'}\n",
      "...\n",
      "Total number of aliens: 30\n"
     ]
    }
   ],
   "source": [
    "#创建一个用于存储外星人的空列表\n",
    "aliens = []\n",
    " \n",
    "#创建30个绿色的外星人\n",
    "for alien_number in range(30):\n",
    "    new_alien = {'color': 'green', 'points': alien_number, 'speed': 'slow'}\n",
    "    aliens.append(new_alien)\n",
    "    for alien in aliens[:3]:\n",
    "        if alien['color'] == 'green':\n",
    "            alien['color'] = 'yellow'\n",
    "            alien['speed'] = 'medium'\n",
    "            alien['points'] = 10 \n",
    "\n",
    "#显示前5个外星人\n",
    "for alien in aliens[:5]:\n",
    "    print(alien)\n",
    "print(\"...\")\n",
    " \n",
    "#显示创建了多少个外星人\n",
    "print(f\"Total number of aliens: {len(aliens)}\")"
   ]
  },
  {
   "cell_type": "code",
   "execution_count": 53,
   "metadata": {},
   "outputs": [
    {
     "name": "stdout",
     "output_type": "stream",
     "text": [
      "green\n",
      "5\n",
      "{'name': 'Alice', 'age': 30, 'occupation': 'Engineer'}\n",
      "{'name': 'Alice', 'occupation': 'Engineer'}\n",
      "{'name': 'Alice', 'occupation': 'Engineer', 'email': '30'}\n",
      "dict_keys(['name', 'occupation', 'email'])\n",
      "dict_items([('name', 'Alice'), ('occupation', 'Engineer'), ('email', '30')])\n",
      "{'a': 0, 'b': 0, 'c': 0}\n",
      "{'name': 'Alice', 'occupation': 'Engineer', 'email': '30'}\n",
      "{'name': 'Alice', 'occupation': 'Engineer', 'email': '30'}\n",
      "name Alice\n",
      "occupation Engineer\n",
      "email 30\n",
      "name\n",
      "occupation\n",
      "email\n",
      "Alice\n",
      "Engineer\n",
      "30\n",
      "30\n",
      "Engineer\n",
      "Alice\n"
     ]
    }
   ],
   "source": [
    "\"\"\"\n",
    "clear()：清空字典所有键值对（d.clear()）\n",
    "copy()：创建字典的浅拷贝（new_dict = d.copy()）\n",
    "fromkeys()：用可迭代对象创建新字典（dict.fromkeys(['a','b'], 0)）\n",
    "get()：安全获取键值（若不存在返回默认值）（value = d.get('key', None)）\n",
    "items()：返回字典键值对视图（for k,v in d.items():）\n",
    "keys()：返回字典键视图（keys = list(d.keys())）\n",
    "pop()：移除指定键并返回值（val = d.pop('key')）\n",
    "popitem()：移除最后插入的键值对（k,v = d.popitem()）\n",
    "setdefault()：若键不存在则设置默认值（d.setdefault('new', 5)）\n",
    "update()：用其他字典/键值对更新字典（d.update({'x':1}, y=2)）\n",
    "values()：返回字典值视图（vals = d.values()）\n",
    "\"\"\"\n",
    "# 字典。在Python中，字典(dictionary)是一系列键值对\n",
    "alien_0 = {'color': 'green', 'points': 5}\n",
    "    \n",
    "print(alien_0['color'])\n",
    "print(alien_0['points'])\n",
    "\n",
    "# 创建字典\n",
    "person = {'name': 'Alice', 'age': 30}\n",
    "\n",
    "# 基础操作\n",
    "person.update(occupation='Engineer')  # 添加新键值对\n",
    "print(person)\n",
    "age = person.pop('age')               # 移除并返回age值\n",
    "print(person)\n",
    "email = person.setdefault('email', '30')# 不存在时设置默认值\n",
    "print(person)\n",
    "\n",
    "# 视图对象\n",
    "keys = person.keys()    # 键视图 dict_keys(['name', 'occupation', 'email'])\n",
    "print(keys)\n",
    "items = person.items()  # 键值对视图\n",
    "print(items)\n",
    "\n",
    "# 特殊构造\n",
    "new_dict = dict.fromkeys(['a','b','c'], 0)  # 创建 {'a':0, 'b':0, 'c':0}\n",
    "print(new_dict)\n",
    "# 清空与复制\n",
    "backup = person.copy()  # 创建副本\n",
    "# person.clear()          # 清空原字典 → {}\n",
    "print(backup)\n",
    "print(person)\n",
    "\n",
    "for k,v in person.items():\n",
    "    print(k,v)\n",
    "\n",
    "for k in person.keys():\n",
    "    print(k)\n",
    "\n",
    "for v in person.values():\n",
    "    print(v)\n",
    "\n",
    "for v in set(person.values()):\n",
    "    print(v)"
   ]
  },
  {
   "cell_type": "code",
   "execution_count": null,
   "metadata": {},
   "outputs": [],
   "source": [
    "# 元组：不可修改，小括号声明； 列表：可修改，中括号声明\n",
    "num3 = （0,1,2,3）"
   ]
  },
  {
   "cell_type": "code",
   "execution_count": 41,
   "metadata": {},
   "outputs": [
    {
     "name": "stdout",
     "output_type": "stream",
     "text": [
      "['martina']\n",
      "['charles', 'martina', 'michael', 'florence']\n",
      "['michael', 'florence', 'eli']\n",
      "[]\n",
      "['charles', 'martina', 'michael']\n"
     ]
    }
   ],
   "source": [
    "players = ['charles', 'martina', 'michael', 'florence', 'eli']\n",
    "print(players[1:2])\n",
    "print(players[:4])\n",
    "print(players[2:])\n",
    "print(players[-3:2])\n",
    "print(players[:-2])"
   ]
  },
  {
   "cell_type": "code",
   "execution_count": 39,
   "metadata": {},
   "outputs": [
    {
     "name": "stdout",
     "output_type": "stream",
     "text": [
      "alice\n",
      "david\n",
      "carolina\n",
      "1\n",
      "2\n",
      "3\n",
      "4\n",
      "\n",
      "\n",
      "1\n",
      "3\n",
      "5\n",
      "7\n",
      "9\n",
      "[1, 4, 9, 16, 25, 36, 49, 64, 81, 100]\n",
      "[1, 36, 121, 256, 441, 676, 961, 1296, 1681, 2116, 2601, 3136, 3721, 4356, 5041, 5776, 6561, 7396, 8281, 9216]\n"
     ]
    }
   ],
   "source": [
    "# 循环\n",
    "magicians = ['alice', 'david', 'carolina']\n",
    "for magician in magicians:\n",
    "    print(magician)\n",
    "\n",
    "for value in range(1,5):\n",
    "    print(value)\n",
    "print(\"\\n\")\n",
    "for value in range(1,11,2):\n",
    "    print(value)\n",
    "\n",
    "squares = []\n",
    "for value in range(1,11):\n",
    "    square = value ** 2\n",
    "    squares.append(square)\n",
    "print(squares)\n",
    "\n",
    "# 列表推导式\n",
    "\n",
    "squares = [value**2 for value in range(1,100,5)]\n",
    "print(squares)"
   ]
  },
  {
   "cell_type": "code",
   "execution_count": 32,
   "metadata": {},
   "outputs": [
    {
     "name": "stdout",
     "output_type": "stream",
     "text": [
      "suzuki\n",
      "suzuki\n"
     ]
    }
   ],
   "source": [
    "# 管理列表\n",
    "# 永久排序 正序：sort() 倒序：sort(reverse=True)  \n",
    "# 临时排序 正序：sorted() 倒序：sorted(reverse=True)  \n",
    "# 永久翻转：reverse()\n",
    "# 列表长度：len()\n",
    "motos = ['honda', 'yamaha', 'suzuki']\n",
    "print(motos[len(motos)-1])\n",
    "print(motos[-1])"
   ]
  },
  {
   "cell_type": "code",
   "execution_count": 25,
   "metadata": {},
   "outputs": [
    {
     "name": "stdout",
     "output_type": "stream",
     "text": [
      "['honda', 'yamaha', 'suzuki']\n",
      "['ducati', 'yamaha', 'suzuki']\n",
      "['ducati', 'yamaha', 'suzuki', 'haojue']\n",
      "['yamaha', 'suzuki', 'haojue']\n",
      "['yamaha', 'suzuki']\n",
      "yamaha\n",
      "['haojue', 'ducati', 'suzuki', 'ducati']\n"
     ]
    }
   ],
   "source": [
    "\"\"\"\n",
    "1.append()：在列表末尾添加元素；my_list.append(\"new_item\")\n",
    "2.extend()：将可迭代对象元素扩展到列表末尾；my_list.extend([\"item1\", \"item2\"])\n",
    "3.insert()：在指定索引位置插入元素；my_list.insert(0, \"first_item\")\n",
    "4.remove()：删除列表中第一个匹配的元素；my_list.remove(\"target\")\n",
    "5.pop()：移除并返回指定索引处的元素（默认最后一个）；last_item = my_list.pop()\n",
    "6.clear()：清空列表所有元素；my_list.clear()\n",
    "7.index()：返回元素首次出现的索引（可指定范围）；idx = my_list.index(\"value\", start=1, end=5)\n",
    "8.count()：统计元素出现的次数；n = my_list.count(5)\n",
    "9.sort()：原地排序列表（可选参数：key 和 reverse）；my_list.sort(reverse=True)\n",
    "10.reverse()：原地反转列表顺序；my_list.reverse()\n",
    "11.copy()：返回列表的浅拷贝副本；new_list = my_list.copy()\n",
    "\n",
    "补充说明：\n",
    "运算符替代操作（非方法，但常用）：\n",
    "    拼接列表：list1 + list2\n",
    "    重复列表：list * 3\n",
    "    切片操作：sublist = my_list[1:4]\n",
    "\n",
    "相关内置函数：\n",
    "    len(my_list)：获取列表长度\n",
    "    sorted(my_list)：返回排序后的新列表（不修改原列表）\n",
    "\"\"\"\n",
    "# 修改添加和删除元素\n",
    "# 插入 append() insert(i,'val') 删除 pop() remove(i) remove('value') del\n",
    "motos = ['honda', 'yamaha', 'suzuki']\n",
    "print(motos)\n",
    "    \n",
    "motos[0] = 'ducati'\n",
    "print(motos)\n",
    "\n",
    "motos.append(\"haojue\")\n",
    "print(motos)\n",
    "\n",
    "del motos[0]\n",
    "print(motos)\n",
    "\n",
    "motos.pop()\n",
    "print(motos)\n",
    "\n",
    "motos.append(\"ducati\")\n",
    "motos.append(\"haojue\")\n",
    "print(motos.pop(0))\n",
    "\n",
    "motos.remove('haojue')\n",
    "\n",
    "motos.insert(0,\"ducati\")\n",
    "motos.insert(0,\"haojue\")\n",
    "print(motos)\n"
   ]
  },
  {
   "cell_type": "code",
   "execution_count": null,
   "metadata": {},
   "outputs": [],
   "source": [
    "\"\"\"\n",
    "练习3.1：姓名　将一些朋友的姓名存储在一个列表中，并将其命名为names。依次访问该列表的每个元素，从而将每个朋友的姓名都打印出来。\n",
    "练习3.2：问候语　继续使用练习3.1中的列表，但不打印每个朋友的姓名，而是为每人打印一条消息。每条消息都包含相同的问候语，但抬头为相应朋友的姓名。\n",
    "练习3.3：自己的列表　想想你喜欢的通勤方式，如骑摩托车或开汽车，并创建一个包含多种通勤方式的列表。根据该列表打印一系列有关这些通勤方式的陈述，如下所示。\n",
    "I would like to own a Honda motorcycle.\n",
    "\"\"\"\n"
   ]
  },
  {
   "cell_type": "code",
   "execution_count": 13,
   "metadata": {},
   "outputs": [
    {
     "name": "stdout",
     "output_type": "stream",
     "text": [
      "['trek', 'cannondale', 'redline', 'specialized']\n",
      "cannondale\n",
      "Cannondale\n"
     ]
    }
   ],
   "source": [
    "# 列表\n",
    "bicycles = ['trek', 'cannondale', 'redline', 'specialized']\n",
    "print(bicycles)\n",
    "print(bicycles[1])\n",
    "print(bicycles[1].title())"
   ]
  },
  {
   "cell_type": "code",
   "execution_count": 8,
   "metadata": {
    "editable": true,
    "scrolled": true,
    "slideshow": {
     "slide_type": ""
    },
    "tags": []
   },
   "outputs": [
    {
     "name": "stdout",
     "output_type": "stream",
     "text": [
      "The Zen of Python, by Tim Peters\n",
      "\n",
      "Beautiful is better than ugly.\n",
      "Explicit is better than implicit.\n",
      "Simple is better than complex.\n",
      "Complex is better than complicated.\n",
      "Flat is better than nested.\n",
      "Sparse is better than dense.\n",
      "Readability counts.\n",
      "Special cases aren't special enough to break the rules.\n",
      "Although practicality beats purity.\n",
      "Errors should never pass silently.\n",
      "Unless explicitly silenced.\n",
      "In the face of ambiguity, refuse the temptation to guess.\n",
      "There should be one-- and preferably only one --obvious way to do it.\n",
      "Although that way may not be obvious at first unless you're Dutch.\n",
      "Now is better than never.\n",
      "Although never is often better than *right* now.\n",
      "If the implementation is hard to explain, it's a bad idea.\n",
      "If the implementation is easy to explain, it may be a good idea.\n",
      "Namespaces are one honking great idea -- let's do more of those!\n"
     ]
    }
   ],
   "source": [
    "import this"
   ]
  },
  {
   "cell_type": "code",
   "execution_count": 7,
   "metadata": {},
   "outputs": [
    {
     "name": "stdout",
     "output_type": "stream",
     "text": [
      "0 0 0\n"
     ]
    }
   ],
   "source": [
    "\"\"\"\n",
    "练习2.9：数字8　编写4个表达式，分别使用加法、减法、乘法和除法运算，但结果都是数字8。为了使用函数调用print()来显示结果，务必将这些表达式用括号括起来。也就是说，你应该编写4行类似于这样的代码：\n",
    "​​print(5+3)​​\n",
    "输出应为4行，其中每行都只包含数字8。\n",
    "练习2.10：最喜欢的数　用一个变量来表示你最喜欢的数，再使用这个变量创建一条消息，指出你最喜欢的数是什么，然后将这条消息打印出来。\n",
    "\"\"\"\n",
    "x,y,z=0,0,0\n",
    "print(x,y,z)\n"
   ]
  },
  {
   "cell_type": "code",
   "execution_count": 4,
   "metadata": {
    "id": "Ca9zt4u_AJZb"
   },
   "outputs": [
    {
     "name": "stdout",
     "output_type": "stream",
     "text": [
      "Hello Eric,, would you like to learn some Python today?\n"
     ]
    }
   ],
   "source": [
    "\"\"\"\n",
    "练习2.3：个性化消息　用变量表示一个人的名字，并向其显示一条消息。显示的消息应非常简单，如下所示。\n",
    "Hello Eric, would you like to learn some Python today?\n",
    "\"\"\"\n",
    "name = \"Hello Eric\"\n",
    "message = f\"{name},would you like to learn some Python today?\"\n",
    "print(message)\n",
    "'''\n",
    "练习2.4：调整名字的大小写　用变量表示一个人的名字，再分别以全小写、全大写和首字母大写的方式显示这个人名。\n",
    "'''\n",
    "name = \"eric jhon\"\n",
    "print(name.title())\n",
    "print(name.upper())\n",
    "print(name.lower())\n",
    "\n",
    "\"\"\"\n",
    "练习2.5：名言1　找到你钦佩的名人说的一句名言，将这个名人的姓名和名言打印出来。输出应类似于下面这样（包括引号）。\n",
    "Albert Einstein once said, “A person who never made a mistake never tried anything new.”\n",
    "\n",
    "练习2.6：名言2　重复练习2.5，但用变量famous_person表示名人的姓名，再创建要显示的消息并将其赋给变量message，\n",
    "然后打印这条消息。\n",
    "\n",
    "练习2.7：删除人名中的空白　用变量表示一个人的名字，并在其开头和末尾都包含一些空白字符。\n",
    "务必至少使用字符组合\"\\t\"和\"\\n\"各一次。\n",
    "打印这个人名，显示其开头和末尾的空白。\n",
    "然后，分别使用函数lstrip()、rstrip()和strip()对人名进行处理，并将结果打印出来。\n",
    "\n",
    "练习2.8：文件扩展名　Python提供了removesuffix()方法，其工作原理与removeprefix()很像。\n",
    "请将值'python_notes.txt'赋给变量filename，再使用removesuffix()方法来显示不包含扩展名的文件名，就像文件浏览器所做的那样。\n",
    "\n",
    "\"\"\"\n",
    "# 2.5\n",
    "\n"
   ]
  },
  {
   "cell_type": "code",
   "execution_count": 3,
   "metadata": {
    "colab": {
     "base_uri": "https://localhost:8080/"
    },
    "executionInfo": {
     "elapsed": 12,
     "status": "ok",
     "timestamp": 1749310770535,
     "user": {
      "displayName": "西红柿炒番茄",
      "userId": "17170756015034177525"
     },
     "user_tz": -480
    },
    "id": "Ze_lM3VqABU5",
    "outputId": "67fac1b9-f847-4571-c7b3-5068a361f35d"
   },
   "outputs": [
    {
     "name": "stdout",
     "output_type": "stream",
     "text": [
      "hello world\n",
      "首字母大写:Hello World\n",
      "全大写：HELLO WORLD\n",
      "全小写： hello world\n",
      "名字： Jhon,snow Jhonsnow\n",
      "Jhon,snow   str   iphello world\n",
      "Jhon,snowstr   ip    hello world\n",
      "Jhon,snowstr   iphello world\n",
      "截取： ://www.google.com\n"
     ]
    }
   ],
   "source": [
    "message = \"hello world\"\n",
    "print(message)\n",
    "# 首字母大写\n",
    "print(\"首字母大写:\"+message.title())\n",
    "# 全大写\n",
    "print(\"全大写：\"+message.upper())\n",
    "# 全小写\n",
    "print(\"全小写：\",message.lower())\n",
    "a=\"Jhon\"\n",
    "b=\"snow\"\n",
    "name = f\"{a},{b}\"\n",
    "name2 = a+b\n",
    "print(\"名字：\",name, name2)\n",
    "strip=\"   str   ip    \"\n",
    "print(name + strip.rstrip() + message)\n",
    "print(name + strip.lstrip() + message)\n",
    "print(name + strip.strip() + message)\n",
    "url = \"https://www.google.com\"\n",
    "print(\"截取：\",url.removeprefix(\"https\"))\n",
    "\n"
   ]
  },
  {
   "cell_type": "code",
   "execution_count": 1,
   "metadata": {
    "colab": {
     "base_uri": "https://localhost:8080/"
    },
    "executionInfo": {
     "elapsed": 16,
     "status": "ok",
     "timestamp": 1749309716661,
     "user": {
      "displayName": "西红柿炒番茄",
      "userId": "17170756015034177525"
     },
     "user_tz": -480
    },
    "id": "6olw7VyE-7To",
    "outputId": "f1ca5037-3253-4082-e622-b8c726ddcdae"
   },
   "outputs": [
    {
     "name": "stdout",
     "output_type": "stream",
     "text": [
      "{\n",
      "  \"num_chars\": 82,\n",
      "  \"num_words\": 10,\n",
      "  \"word_freq\": {\n",
      "    \"python\": 2,\n",
      "    \"is\": 2,\n",
      "    \"a\": 1,\n",
      "    \"high-level,\": 1,\n",
      "    \"general-purpose\": 1,\n",
      "    \"programming\": 1,\n",
      "    \"language.\": 1,\n",
      "    \"versatile.\": 1\n",
      "  },\n",
      "  \"long_words\": [\n",
      "    \"general-purpose\",\n",
      "    \"high-level,\",\n",
      "    \"language.\",\n",
      "    \"programming\",\n",
      "    \"versatile.\",\n",
      "    \"python\"\n",
      "  ]\n",
      "}\n"
     ]
    }
   ],
   "source": [
    "import collections\n",
    "\n",
    "def analyze_text(text: str) -> dict:\n",
    "    \"\"\"\n",
    "    分析给定的文本字符串，返回包含字符数、单词数和词频的字典。\n",
    "    \"\"\"\n",
    "    # 1. 计算总字符数\n",
    "    num_chars = len(text)\n",
    "\n",
    "    # 2. 分割单词并处理大小写\n",
    "    words = text.lower().split()\n",
    "    num_words = len(words)\n",
    "\n",
    "    # 3. 统计词频 (两种方法)\n",
    "    # 方法一：手动循环\n",
    "    # word_freq = {}\n",
    "    # for word in words:\n",
    "    #     word_freq[word] = word_freq.get(word, 0) + 1\n",
    "\n",
    "    # 方法二：使用 collections.Counter (更 Pythonic)\n",
    "    word_freq = collections.Counter(words)\n",
    "\n",
    "    # ⭐ 挑战任务：使用列表推导式找出长单词\n",
    "    long_words = [word for word in set(words) if len(word) >= 5]\n",
    "\n",
    "\n",
    "    # 准备返回结果\n",
    "    analysis_result = {\n",
    "        \"num_chars\": num_chars,\n",
    "        \"num_words\": num_words,\n",
    "        \"word_freq\": dict(word_freq), # 将 Counter 对象转为普通字典\n",
    "        \"long_words\": long_words\n",
    "    }\n",
    "\n",
    "    return analysis_result\n",
    "\n",
    "# 测试函数\n",
    "sample_text = \"Python is a high-level, general-purpose programming language. Python is versatile.\"\n",
    "analysis = analyze_text(sample_text)\n",
    "\n",
    "# 打印结果\n",
    "import json\n",
    "print(json.dumps(analysis, indent=2))"
   ]
  }
 ],
 "metadata": {
  "colab": {
   "authorship_tag": "ABX9TyOrohQ6fE1slF8O/dh8tqev",
   "provenance": []
  },
  "kernelspec": {
   "display_name": "Python 3 (ipykernel)",
   "language": "python",
   "name": "python3"
  },
  "language_info": {
   "codemirror_mode": {
    "name": "ipython",
    "version": 3
   },
   "file_extension": ".py",
   "mimetype": "text/x-python",
   "name": "python",
   "nbconvert_exporter": "python",
   "pygments_lexer": "ipython3",
   "version": "3.12.2"
  }
 },
 "nbformat": 4,
 "nbformat_minor": 4
}
